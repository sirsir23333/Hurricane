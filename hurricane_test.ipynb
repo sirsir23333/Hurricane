{
 "cells": [
  {
   "cell_type": "code",
   "execution_count": 30,
   "metadata": {},
   "outputs": [],
   "source": [
    "import os\n",
    "import re\n",
    "import json\n",
    "import kml2geojson as k2g\n",
    "import zipfile\n",
    "import requests\n",
    "import shutil\n",
    "from bs4 import BeautifulSoup\n",
    "from selenium import webdriver\n",
    "from selenium.webdriver.chrome.service import Service\n",
    "from selenium.webdriver.common.by import By\n",
    "from selenium.webdriver.support.ui import WebDriverWait\n",
    "from selenium.webdriver.support import expected_conditions as EC\n",
    "import xml.etree.ElementTree as ET\n",
    "from lxml import etree\n",
    "from datetime import datetime"
   ]
  },
  {
   "cell_type": "code",
   "execution_count": 31,
   "metadata": {},
   "outputs": [
    {
     "name": "stdout",
     "output_type": "stream",
     "text": [
      "KMZ File URL 1: https://www.metoc.navy.mil/jtwc/products/wp2124.kmz\n",
      "KMZ file 1 saved to C:\\Users\\CrudeIntern\\Desktop\\Delphine\\hurricane\\wp2124.kmz\n",
      "KMZ File URL 2: https://www.metoc.navy.mil/jtwc/products/ep9924.kmz\n",
      "KMZ file 2 saved to C:\\Users\\CrudeIntern\\Desktop\\Delphine\\hurricane\\ep9924.kmz\n",
      "['C:\\\\Users\\\\CrudeIntern\\\\Desktop\\\\Delphine\\\\hurricane\\\\wp2124.kmz', 'C:\\\\Users\\\\CrudeIntern\\\\Desktop\\\\Delphine\\\\hurricane\\\\ep9924.kmz']\n",
      "['wp2124', 'ep9924']\n"
     ]
    }
   ],
   "source": [
    "# Define paths\n",
    "base_directory = r\"C:\\Users\\CrudeIntern\\Desktop\\Delphine\\hurricane\"\n",
    "# output_geojson_path = os.path.join(base_directory, 'wp1224.geojson')\n",
    "\n",
    "def webscraping_kmz(base_directory: str) -> None:\n",
    "    driver = webdriver.Chrome()\n",
    "    try:\n",
    "        url = \"https://www.metoc.navy.mil/jtwc/jtwc.html\"\n",
    "        driver.get(url)\n",
    "        driver.implicitly_wait(5)\n",
    "        kmz_link_elements = WebDriverWait(driver, 5).until(\n",
    "            EC.presence_of_all_elements_located((By.LINK_TEXT, \"Google Earth Overlay\"))\n",
    "        )\n",
    "        if not kmz_link_elements:\n",
    "            print(\"No Google Earth Overlay links found.\")\n",
    "            return\n",
    "        file_names, kmz_file_paths = [], []\n",
    "        for index, kmz_link_element in enumerate(kmz_link_elements):\n",
    "            kmz_url = kmz_link_element.get_attribute('href')\n",
    "            print(f\"KMZ File URL {index + 1}: {kmz_url}\")\n",
    "            file_name = kmz_url.split('/')[-1].split('.')[0]\n",
    "            kmz_file = requests.get(kmz_url) \n",
    "            kmz_file_path = os.path.join(base_directory, f'{file_name}.kmz')\n",
    "            kmz_file_paths.append(kmz_file_path)\n",
    "            file_names.append(file_name)\n",
    "            with open(kmz_file_path, 'wb') as f:\n",
    "                f.write(kmz_file.content)\n",
    "            print(f\"KMZ file {index + 1} saved to {kmz_file_path}\")\n",
    "    except Exception as e:\n",
    "        print(\"Error occurred while scraping KMZ files:\", e)\n",
    "    finally:\n",
    "        driver.quit()\n",
    "    return kmz_file_paths, file_names\n",
    "kmz_file_paths, file_names = webscraping_kmz(base_directory)\n",
    "print(kmz_file_paths)\n",
    "print(file_names)"
   ]
  },
  {
   "cell_type": "code",
   "execution_count": 32,
   "metadata": {},
   "outputs": [
    {
     "name": "stdout",
     "output_type": "stream",
     "text": [
      "KMZ file C:\\Users\\CrudeIntern\\Desktop\\Delphine\\hurricane\\wp2124.kmz has been extracted to C:\\Users\\CrudeIntern\\Desktop\\Delphine\\hurricane\\wp2124\n",
      "C:\\Users\\CrudeIntern\\Desktop\\Delphine\\hurricane\\wp2124.kml\n",
      "KML file has been moved and renamed to C:\\Users\\CrudeIntern\\Desktop\\Delphine\\hurricane\\wp2124.kml\n",
      "Folder C:\\Users\\CrudeIntern\\Desktop\\Delphine\\hurricane\\wp2124 has been deleted.\n",
      "KMZ file C:\\Users\\CrudeIntern\\Desktop\\Delphine\\hurricane\\wp2124.kmz has been deleted.\n",
      "KMZ file C:\\Users\\CrudeIntern\\Desktop\\Delphine\\hurricane\\ep9924.kmz has been extracted to C:\\Users\\CrudeIntern\\Desktop\\Delphine\\hurricane\\ep9924\n",
      "C:\\Users\\CrudeIntern\\Desktop\\Delphine\\hurricane\\ep9924.kml\n",
      "KML file has been moved and renamed to C:\\Users\\CrudeIntern\\Desktop\\Delphine\\hurricane\\ep9924.kml\n",
      "Folder C:\\Users\\CrudeIntern\\Desktop\\Delphine\\hurricane\\ep9924 has been deleted.\n",
      "KMZ file C:\\Users\\CrudeIntern\\Desktop\\Delphine\\hurricane\\ep9924.kmz has been deleted.\n",
      "['C:\\\\Users\\\\CrudeIntern\\\\Desktop\\\\Delphine\\\\hurricane\\\\wp2124.kml', 'C:\\\\Users\\\\CrudeIntern\\\\Desktop\\\\Delphine\\\\hurricane\\\\ep9924.kml']\n"
     ]
    }
   ],
   "source": [
    "\n",
    "def extract_kml(kmz_file_paths: list, file_names: list, base_directory: str) -> None:\n",
    "    kml_file_paths = []\n",
    "    for kmz_file_path, file_name in zip(kmz_file_paths, file_names):\n",
    "        output_directory = os.path.join(base_directory, file_name)\n",
    "        with zipfile.ZipFile(kmz_file_path, 'r') as zip_ref:\n",
    "            zip_ref.extractall(output_directory)\n",
    "        print(f\"KMZ file {kmz_file_path} has been extracted to {output_directory}\")\n",
    "        ld = os.listdir(output_directory)\n",
    "        kml_file = [file for file in ld if file.endswith('.kml')]\n",
    "        kml_file_path = os.path.join(output_directory, kml_file[0])\n",
    "        try:\n",
    "            new_kml_path = os.path.join(base_directory, f'{file_name}.kml')\n",
    "            print(new_kml_path)\n",
    "            os.rename(kml_file_path, new_kml_path)\n",
    "            print(f\"KML file has been moved and renamed to {new_kml_path}\")\n",
    "            kml_file_paths.append(new_kml_path)\n",
    "        except Exception as e:\n",
    "            print(f\"Error moving KML file: {e}\")\n",
    "        try:\n",
    "            shutil.rmtree(output_directory)\n",
    "            print(f\"Folder {output_directory} has been deleted.\")\n",
    "        except Exception as e:\n",
    "            print(f\"Error deleting folder {output_directory}: {e}\")\n",
    "        try:\n",
    "            os.remove(kmz_file_path)\n",
    "            print(f\"KMZ file {kmz_file_path} has been deleted.\")\n",
    "        except Exception as e:\n",
    "            print(f\"Error deleting KMZ file {kmz_file_path}: {e}\")\n",
    "    return kml_file_paths\n",
    "kml_file_paths = extract_kml(kmz_file_paths, file_names, base_directory)\n",
    "print(kml_file_paths)"
   ]
  },
  {
   "cell_type": "code",
   "execution_count": 33,
   "metadata": {},
   "outputs": [
    {
     "name": "stdout",
     "output_type": "stream",
     "text": [
      "['wp2124', 'ep9924']\n",
      "Merged KML file saved as: C:\\Users\\CrudeIntern\\Desktop\\Delphine\\hurricane\\hurricane_combined.kml\n"
     ]
    }
   ],
   "source": [
    "def parse_kml_file(kml_file):\n",
    "    \"\"\"\n",
    "    Parse a KML file and return its root element.\n",
    "    Args:\n",
    "        kml_file (str): The path to the KML file.\n",
    "    Returns:\n",
    "        root (Element): The root element of the parsed KML file.\n",
    "    \"\"\"\n",
    "    try:\n",
    "        tree = etree.parse(kml_file)\n",
    "        return tree.getroot()\n",
    "    except etree.XMLSyntaxError as e:\n",
    "        print(f\"Error parsing file {kml_file}: {e}\")\n",
    "        return None\n",
    "\n",
    "def adjust_ids(element, id_suffix):\n",
    "    \"\"\"\n",
    "    Adjust IDs of elements to ensure uniqueness in the merged KML.\n",
    "    Args:\n",
    "        element (Element): The root element whose child IDs need adjustment.\n",
    "        id_suffix (int): A unique suffix to append to IDs.\n",
    "    \"\"\"\n",
    "    for elem in element.iter():\n",
    "        if 'id' in elem.attrib:\n",
    "            elem.attrib['id'] = f\"{elem.attrib['id']}_{id_suffix}\"\n",
    "\n",
    "def merge_kml_files(selected_files, output_file):\n",
    "    \"\"\"\n",
    "    Merge the selected KML files into a single KML file.\n",
    "    Args:\n",
    "        selected_files (list): List of KML files selected for merging.\n",
    "        output_file (str): The path for the output merged KML file.\n",
    "    \"\"\"\n",
    "    # Define the KML namespace\n",
    "    KML_NAMESPACE = \"http://www.opengis.net/kml/2.2\"\n",
    "    NSMAP = {None: KML_NAMESPACE}\n",
    "\n",
    "    # Create a root for the new KML file\n",
    "    merged_root = etree.Element('kml', nsmap=NSMAP)\n",
    "    merged_document = etree.SubElement(merged_root, 'Document')\n",
    "\n",
    "    # Keep track of unique IDs to avoid conflicts\n",
    "    id_counter = 0\n",
    "\n",
    "    for kml_file in selected_files:\n",
    "        root = parse_kml_file(kml_file)\n",
    "        if root is not None:\n",
    "            # Find the <Document> element inside each KML file\n",
    "            document = root.find(f'.//{{{KML_NAMESPACE}}}Document')\n",
    "            if document is not None:\n",
    "                # Adjust IDs to avoid conflicts\n",
    "                adjust_ids(document, id_counter)\n",
    "                id_counter += 1\n",
    "\n",
    "                # Append child elements of the <Document> to the merged document\n",
    "                for elem in document:\n",
    "                    merged_document.append(elem)\n",
    "            else:\n",
    "                # If <Document> is not found, check for <Folder> elements\n",
    "                folders = root.findall(f'.//{{{KML_NAMESPACE}}}Folder')\n",
    "                for folder in folders:\n",
    "                    adjust_ids(folder, id_counter)\n",
    "                    id_counter += 1\n",
    "                    merged_document.append(folder)\n",
    "        else:\n",
    "            print(f\"Failed to parse file {kml_file}.\")\n",
    "\n",
    "    if len(merged_document) > 0:\n",
    "        # Write the merged KML content into the output file\n",
    "        with open(output_file, 'wb') as f:\n",
    "            f.write(etree.tostring(merged_root, pretty_print=True, xml_declaration=True, encoding='UTF-8'))\n",
    "        print(f\"Merged KML file saved as: {output_file}\")\n",
    "    else:\n",
    "        print(\"No valid KML content was merged.\")\n",
    "print(file_names)\n",
    "# output_combine_file = r\"C:\\Users\\CrudeIntern\\Desktop\\Delphine\\hurricane\\hurricane_combined.kml\"\n",
    "output_combine_file = os.path.join(base_directory, 'hurricane_combined.kml')\n",
    "merge_kml_files(kml_file_paths, output_file=output_combine_file)"
   ]
  },
  {
   "cell_type": "markdown",
   "metadata": {},
   "source": [
    "Transform the Geojson\n"
   ]
  },
  {
   "cell_type": "code",
   "execution_count": 34,
   "metadata": {},
   "outputs": [
    {
     "name": "stdout",
     "output_type": "stream",
     "text": [
      "Error processing the GeoJSON file: Expecting ',' delimiter: line 1 column 4548 (char 4547)\n",
      "Error processing the GeoJSON file: Expecting ',' delimiter: line 1 column 4564 (char 4563)\n",
      "Error processing the GeoJSON file: Expecting ',' delimiter: line 1 column 4581 (char 4580)\n",
      "Error processing the GeoJSON file: Expecting ',' delimiter: line 1 column 9353 (char 9352)\n",
      "Error processing the GeoJSON file: Expecting ',' delimiter: line 1 column 9369 (char 9368)\n",
      "Error processing the GeoJSON file: Expecting ',' delimiter: line 1 column 9386 (char 9385)\n",
      "Error processing the GeoJSON file: Expecting ',' delimiter: line 1 column 14529 (char 14528)\n",
      "Error processing the GeoJSON file: Expecting ',' delimiter: line 1 column 14545 (char 14544)\n",
      "Error processing the GeoJSON file: Expecting ',' delimiter: line 1 column 14562 (char 14561)\n",
      "Error processing the GeoJSON file: Expecting ',' delimiter: line 1 column 19689 (char 19688)\n",
      "Error processing the GeoJSON file: Expecting ',' delimiter: line 1 column 19705 (char 19704)\n",
      "Error processing the GeoJSON file: Expecting ',' delimiter: line 1 column 19722 (char 19721)\n",
      "Error processing the GeoJSON file: Expecting ',' delimiter: line 1 column 29159 (char 29158)\n",
      "Error processing the GeoJSON file: Expecting ',' delimiter: line 1 column 29175 (char 29174)\n",
      "Error processing the GeoJSON file: Expecting ',' delimiter: line 1 column 29192 (char 29191)\n",
      "Error processing the GeoJSON file: Expecting ',' delimiter: line 1 column 38801 (char 38800)\n",
      "Error processing the GeoJSON file: Expecting ',' delimiter: line 1 column 38817 (char 38816)\n",
      "Error processing the GeoJSON file: Expecting ',' delimiter: line 1 column 38834 (char 38833)\n",
      "Error processing the GeoJSON file: Expecting ',' delimiter: line 1 column 52793 (char 52792)\n",
      "Error processing the GeoJSON file: Expecting ',' delimiter: line 1 column 52809 (char 52808)\n",
      "Error processing the GeoJSON file: Expecting ',' delimiter: line 1 column 52826 (char 52825)\n",
      "GeoJSON cleaned and saved successfully.\n"
     ]
    }
   ],
   "source": [
    "def kml_to_geojson(output_geojson_path: str, output_combine_file: str) -> None:\n",
    "    file = k2g.main.convert(kml_path_or_buffer=output_combine_file, feature_collection_name='hurricane_combined.geojson')\n",
    "    with open(output_geojson_path, 'w') as f:\n",
    "        f.write(str(file[0]))\n",
    "    with open(output_geojson_path, 'r') as f:\n",
    "        raw_geojson_content = f.read()\n",
    "    while True:\n",
    "        try:\n",
    "            raw_geojson_content = raw_geojson_content.replace(\"'\", '\"')\n",
    "            geojson_obj = json.loads(raw_geojson_content)\n",
    "            formatted_geojson_content = json.dumps(geojson_obj, indent=4)\n",
    "            with open(output_geojson_path, 'w') as f:\n",
    "                f.write(formatted_geojson_content)\n",
    "            print(\"GeoJSON cleaned and saved successfully.\")\n",
    "            break\n",
    "        except json.JSONDecodeError as e:\n",
    "            print(f\"Error processing the GeoJSON file: {e}\")\n",
    "            escape_index = e.colno - 2\n",
    "            raw_geojson_content = raw_geojson_content[:escape_index] + \"\\\\\" + raw_geojson_content[escape_index:]\n",
    "            for i, val in enumerate(raw_geojson_content[escape_index+2:]):\n",
    "                if val == '\"':\n",
    "                    raw_geojson_content = raw_geojson_content[:escape_index+i+2] + \"\\\\\" + raw_geojson_content[escape_index+i+2:] \n",
    "                    break\n",
    "\n",
    "output_geojson_path = os.path.join(base_directory, 'hurricane_combined.geojson')\n",
    "output_combine_file = os.path.join(base_directory, 'hurricane_combined.kml')\n",
    "kml_to_geojson(output_geojson_path, output_combine_file)"
   ]
  },
  {
   "cell_type": "markdown",
   "metadata": {},
   "source": [
    "Upload to github"
   ]
  },
  {
   "cell_type": "code",
   "execution_count": null,
   "metadata": {},
   "outputs": [],
   "source": [
    "def upload_kml(kml_file_path: str, output_geojson_path: str) -> None:\n",
    "    # upload the GeoJSON file to github\n",
    "    with open(output_geojson_path, 'r') as f:\n",
    "        geojson_content = f.read()\n",
    "    "
   ]
  },
  {
   "cell_type": "code",
   "execution_count": null,
   "metadata": {},
   "outputs": [],
   "source": [
    "def main():\n",
    "    kmz_file_path, file_name = webscraping_kmz(base_directory)\n",
    "    extracted_kml_path = os.path.join(base_directory, \n",
    "    extract_kml(kmz_file_path, extracted_kml_path)\n",
    "    kml_to_geojson(output_geojson_path)"
   ]
  }
 ],
 "metadata": {
  "kernelspec": {
   "display_name": "base",
   "language": "python",
   "name": "python3"
  },
  "language_info": {
   "codemirror_mode": {
    "name": "ipython",
    "version": 3
   },
   "file_extension": ".py",
   "mimetype": "text/x-python",
   "name": "python",
   "nbconvert_exporter": "python",
   "pygments_lexer": "ipython3",
   "version": "3.11.5"
  }
 },
 "nbformat": 4,
 "nbformat_minor": 2
}
